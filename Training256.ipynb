{
  "cells": [
    {
      "cell_type": "markdown",
      "source": [
        "# **Kết nối với Google Drive**"
      ],
      "metadata": {
        "id": "TKwky2P0uwE8"
      }
    },
    {
      "cell_type": "code",
      "source": [
        "from google.colab import drive\n",
        "drive.mount('/content/drive', force_remount=True)"
      ],
      "metadata": {
        "id": "zUGKbGUruueZ"
      },
      "execution_count": null,
      "outputs": []
    },
    {
      "cell_type": "markdown",
      "source": [
        "# **Khai báo thư viên**"
      ],
      "metadata": {
        "id": "atGURpBsuvPh"
      }
    },
    {
      "cell_type": "code",
      "execution_count": null,
      "metadata": {
        "id": "CDw5tAbHJ5nY"
      },
      "outputs": [],
      "source": [
        "import numpy as np\n",
        "import cv2\n",
        "import matplotlib.pyplot as plt\n",
        "import os\n",
        "import pandas as pd\n",
        "import seaborn as sns\n",
        "from keras.preprocessing import  image\n",
        "from keras.preprocessing.image import load_img, img_to_array,array_to_img,ImageDataGenerator\n",
        "from sklearn.model_selection import train_test_split\n",
        "from sklearn.metrics import confusion_matrix\n",
        "from keras.utils import np_utils\n",
        "from keras.models import Sequential\n",
        "from keras.layers import Dense, Dropout, Flatten, Conv2D, MaxPooling2D, BatchNormalization, SpatialDropout2D, Activation, AveragePooling2D\n",
        "from tensorflow.keras.optimizers import Adam, SGD\n",
        "from tensorflow.keras import callbacks\n",
        "from tensorflow.keras.models import model_from_json"
      ]
    },
    {
      "cell_type": "markdown",
      "source": [
        "# **Cài đặt thư viện GDown, download và giải nén file data được update lên Google Drive**\n",
        "Link Google Drive: https://drive.google.com/uc?id=1Ww5Uu9wC2ySTUYFaKEOjUUjm9zI7-zHA"
      ],
      "metadata": {
        "id": "H8-D7HiVu_-E"
      }
    },
    {
      "cell_type": "code",
      "source": [
        "!pip install gdown\n",
        "!gdown https://drive.google.com/uc?id=1Ww5Uu9wC2ySTUYFaKEOjUUjm9zI7-zHA\n",
        "!unzip Data_256.zip"
      ],
      "metadata": {
        "id": "xV4P94_tE2P4"
      },
      "execution_count": null,
      "outputs": []
    },
    {
      "cell_type": "markdown",
      "source": [
        "# **Hàm dừng training khi đạt độ chính xác yêu cầu**"
      ],
      "metadata": {
        "id": "Z8YDe9VEvAgQ"
      }
    },
    {
      "cell_type": "code",
      "execution_count": null,
      "metadata": {
        "id": "vkfhG9tomA2v"
      },
      "outputs": [],
      "source": [
        "ACCURACY_THRESHOLD = 0.988\n",
        "class myCallback(callbacks.Callback):\n",
        "\tdef on_epoch_end(self, epoch, logs={}):\n",
        "\t\tif((logs.get('val_accuracy') >= ACCURACY_THRESHOLD)):\n",
        "\t\t\tself.model.stop_training = True\n",
        "e_callback = myCallback()"
      ]
    },
    {
      "cell_type": "markdown",
      "source": [
        "# **Load data**"
      ],
      "metadata": {
        "id": "VCVT5aQBvOJT"
      }
    },
    {
      "cell_type": "code",
      "source": [
        "size = 256\n",
        "x = []\n",
        "y = []\n",
        "for i in range(0,16):\n",
        "  dir_folder = \"/content/\"+str(i+1)+'/'\n",
        "  for j in os.listdir(dir_folder):\n",
        "      img = image.load_img(dir_folder + j, color_mode = 'grayscale', target_size=(size,size))\n",
        "      img = img_to_array(img)\n",
        "      img = img.reshape(size,size,1)\n",
        "      img = img.astype('float32')/255.0\n",
        "      x.append(img)\n",
        "      y.append(int(i))\n",
        "x = np.array(x)\n",
        "y = np.array(y)\n",
        "x_train, x_val_test, y_train, y_val_test = train_test_split(x,y, test_size=0.2)\n",
        "x_val, x_test, y_val, y_test = train_test_split(x_val_test,y_val_test, test_size=0.25)\n",
        "y_train = np_utils.to_categorical(y_train,16)\n",
        "y_val = np_utils.to_categorical(y_val,16)\n",
        "y_test = np_utils.to_categorical(y_test,16)\n",
        "x = []\n",
        "y = []"
      ],
      "metadata": {
        "id": "FpgXSpnWZqhs"
      },
      "execution_count": null,
      "outputs": []
    },
    {
      "cell_type": "markdown",
      "source": [
        "# **Khai báo các lớp của Model CNN**"
      ],
      "metadata": {
        "id": "4fUm3xj0vOhg"
      }
    },
    {
      "cell_type": "code",
      "execution_count": null,
      "metadata": {
        "id": "hZlWQymgDR0l"
      },
      "outputs": [],
      "source": [
        "model = Sequential()\n",
        "model.add(Conv2D(filters = 16, kernel_size = (3,3), strides = 1, padding = \"same\", activation = 'relu', input_shape = (size,size,1)))\n",
        "model.add(Conv2D(filters = 16, kernel_size=(3,3), strides = 1, padding = \"same\",activation=\"relu\"))\n",
        "model.add(AveragePooling2D(pool_size = (2,2), strides = 2))\n",
        "\n",
        "model.add(Conv2D(filters = 16, kernel_size=(3,3), strides = 1, padding = \"same\",activation=\"relu\"))\n",
        "model.add(AveragePooling2D(pool_size = (2,2), strides = 2))\n",
        "\n",
        "model.add(Conv2D(filters = 16, kernel_size=(3,3), strides = 1, padding = \"same\",activation=\"relu\"))\n",
        "model.add(AveragePooling2D(pool_size = (2,2), strides = 2))\n",
        "\n",
        "model.add(Conv2D(filters = 32, kernel_size=(3,3), strides = 1, padding = \"same\",activation=\"relu\"))\n",
        "model.add(AveragePooling2D(pool_size = (2,2), strides = 2))\n",
        "\n",
        "model.add(Conv2D(filters = 32, kernel_size=(3,3), strides = 1, padding = \"same\",activation=\"relu\"))\n",
        "model.add(AveragePooling2D(pool_size = (2,2), strides = 2))\n",
        "\n",
        "model.add(Conv2D(filters = 32, kernel_size=(3,3), strides = 1, padding = \"same\",activation=\"relu\"))\n",
        "model.add(AveragePooling2D(pool_size = (2,2), strides = 2))\n",
        "\n",
        "\n",
        "model.add(Flatten())\n",
        "model.add(Dense(32, activation = 'relu'))\n",
        "model.add(Dropout(0.5))\n",
        "model.add(Dense(16, activation = 'softmax'))\n",
        "model.summary()\n",
        "opt = Adam(learning_rate=0.0008)\n",
        "model.compile(optimizer = opt, loss = 'categorical_crossentropy', metrics=['accuracy'])\n",
        "history = model.fit(x_train, y_train, epochs = 1000, batch_size = 32, validation_data = (x_val, y_val), callbacks=[e_callback])"
      ]
    },
    {
      "cell_type": "markdown",
      "source": [
        "# **Tiến hành training Model**"
      ],
      "metadata": {
        "id": "nIbF1lnWvxxZ"
      }
    },
    {
      "cell_type": "code",
      "execution_count": null,
      "metadata": {
        "id": "bmMtNKARmXkh"
      },
      "outputs": [],
      "source": [
        "opt = Adam(learning_rate=0.0008)\n",
        "model.compile(optimizer = opt, loss = 'categorical_crossentropy', metrics=['accuracy'])\n",
        "history = model.fit(x_train, y_train, epochs = 1000, batch_size = 32, validation_data = (x_val, y_val), callbacks=[e_callback])"
      ]
    },
    {
      "cell_type": "markdown",
      "source": [
        "# **Lưu file Model vào Google Drive**"
      ],
      "metadata": {
        "id": "Ffp9bm_uv2zx"
      }
    },
    {
      "cell_type": "code",
      "execution_count": null,
      "metadata": {
        "id": "xQ_WHCytFcKT",
        "colab": {
          "base_uri": "https://localhost:8080/"
        },
        "outputId": "51aba8f6-9b28-46da-ca6e-050c83a66e38"
      },
      "outputs": [
        {
          "output_type": "stream",
          "name": "stdout",
          "text": [
            "Saved model to disk\n"
          ]
        }
      ],
      "source": [
        "model_json = model.to_json()\n",
        "with open(\"/content/drive/MyDrive/RecognizeWood_256.json\", \"w\") as json_file:\n",
        "      json_file.write(model_json)\n",
        "model.save_weights(\"/content/drive/MyDrive/RecognizeWood_256.h5\")\n",
        "print(\"Saved model to disk\")"
      ]
    },
    {
      "cell_type": "markdown",
      "source": [
        "# **Xuất đồ thị độ chính xác**"
      ],
      "metadata": {
        "id": "L8zWbwTVv3YE"
      }
    },
    {
      "cell_type": "code",
      "execution_count": null,
      "metadata": {
        "id": "1ZdCep1YaQ6S"
      },
      "outputs": [],
      "source": [
        "plt.figure(figsize=(8, 6), dpi=200)\n",
        "plt.grid(True)\n",
        "plt.plot(history.history['accuracy'])\n",
        "plt.plot(history.history['val_accuracy'])\n",
        "plt.title('Model Accuracy',fontsize=16)\n",
        "plt.ylabel('Accuracy',fontsize=16)\n",
        "plt.xlabel('Epoch',fontsize=16)\n",
        "plt.xlim()\n",
        "plt.legend(['Train','Validation'],loc='upper_left',fontsize=16)\n",
        "plt.savefig('/content/drive/MyDrive/Acc_train.jpg', dpi = 200)\n",
        "plt.show()"
      ]
    },
    {
      "cell_type": "markdown",
      "source": [
        "# **Xuất đồ thị độ mất mát**"
      ],
      "metadata": {
        "id": "osjDPcmFv3tb"
      }
    },
    {
      "cell_type": "code",
      "execution_count": null,
      "metadata": {
        "id": "QyQ5O2JLJ5ne"
      },
      "outputs": [],
      "source": [
        "plt.figure(figsize=(8, 6), dpi=200)\n",
        "plt.grid(True)\n",
        "plt.plot(history.history['loss'])\n",
        "plt.plot(history.history['val_loss'])\n",
        "plt.title('Model Loss',fontsize=16)\n",
        "plt.ylabel('Loss',fontsize=16)\n",
        "plt.xlabel('Epoch',fontsize=16)\n",
        "plt.xlim()\n",
        "plt.legend(['Train','Validation'],loc='upper_left',fontsize=16)\n",
        "plt.savefig('/content/drive/MyDrive/Loss_train.jpg', dpi = 200)\n",
        "plt.show()"
      ]
    },
    {
      "cell_type": "markdown",
      "source": [
        "# **Load Model đã save từ Google Drive**"
      ],
      "metadata": {
        "id": "8nkzDYu1wSHy"
      }
    },
    {
      "cell_type": "code",
      "execution_count": null,
      "metadata": {
        "id": "mMOo4wGuJ5nf"
      },
      "outputs": [],
      "source": [
        "model_architecture = \"/content/drive/MyDrive/RecognizeWood_256.json\"\n",
        "model_weights = \"/content/drive/MyDrive/RecognizeWood_256.h5\"\n",
        "model = model_from_json(open(model_architecture).read())\n",
        "model.load_weights(model_weights)\n",
        "opt = Adam(learning_rate=0.0008)\n",
        "model.compile(optimizer = opt, loss = 'categorical_crossentropy', metrics=['accuracy'])"
      ]
    },
    {
      "cell_type": "markdown",
      "source": [
        "# **Test độ chính xác của Model với dữ liệu không được đưa vào Training và Validation**"
      ],
      "metadata": {
        "id": "6nZtPfjdwRrC"
      }
    },
    {
      "cell_type": "code",
      "execution_count": null,
      "metadata": {
        "id": "Zd_edVLIJ5nf"
      },
      "outputs": [],
      "source": [
        "score = model.evaluate(x_test,y_test,batch_size = 1)\n",
        "print(\"Accuracy test:\",score[1])\n",
        "print(\"Loss test:\",score[0])"
      ]
    },
    {
      "cell_type": "markdown",
      "source": [
        "# **Confution Matrix**"
      ],
      "metadata": {
        "id": "sg5QM-pzjs0T"
      }
    },
    {
      "cell_type": "code",
      "source": [
        "labels = [\"Anh đào\",\"Bạch đằng\",\"Bồ đề\",\"Căm xe\",\"Cao su\",\"Cate\",\"Hoàng đàn\",\"Keo lai\",\"Lát hoa\",\"Mỡ \",\"Mun\",\"Muồng đen\",\"Quế\",\"Sồi\",\"Táu mật\",\"Không phải gỗ\"]\n",
        "y_pred = model.predict(x_test)\n",
        "y_true = y_test\n",
        "y_pred=np.argmax(y_pred, axis=1)\n",
        "y_true=np.argmax(y_true, axis=1)\n",
        "cm = confusion_matrix(y_true, y_pred)\n",
        "cm_normal = np.round(cm/np.sum(cm,axis=1).reshape(-1,1),2)\n",
        "df_cm = pd.DataFrame(cm_normal)\n",
        "plt.figure(figsize=(16, 12), dpi=160)\n",
        "sns.heatmap(df_cm, cmap =\"Greens\", annot=True, xticklabels=labels, yticklabels=labels)\n",
        "plt.title('Confusion matrix',fontsize=20)\n",
        "plt.xlabel(\"Predict\",fontsize=16)\n",
        "plt.ylabel(\"Actual\",fontsize=16)\n",
        "plt.savefig('/content/drive/MyDrive/Confution_matrix.jpg', dpi = 160)"
      ],
      "metadata": {
        "id": "0G1Gkz3QB7aK"
      },
      "execution_count": null,
      "outputs": []
    }
  ],
  "metadata": {
    "accelerator": "GPU",
    "colab": {
      "collapsed_sections": [],
      "name": "Training256.ipynb",
      "provenance": []
    },
    "kernelspec": {
      "display_name": "Python 3",
      "name": "python3"
    },
    "language_info": {
      "name": "python"
    }
  },
  "nbformat": 4,
  "nbformat_minor": 0
}